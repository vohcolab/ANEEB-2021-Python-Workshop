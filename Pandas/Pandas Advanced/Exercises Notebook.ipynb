{
 "cells": [
  {
   "cell_type": "code",
   "execution_count": 1,
   "metadata": {
    "ExecuteTime": {
     "end_time": "2021-06-19T13:43:03.112212Z",
     "start_time": "2021-06-19T13:42:55.986755Z"
    }
   },
   "outputs": [],
   "source": [
    "# importing packages\n",
    "\n",
    "import pandas as pd\n",
    "\n",
    "from hashlib import sha256\n",
    "import json\n",
    "\n",
    "from IPython.core.interactiveshell import InteractiveShell\n",
    "InteractiveShell.ast_node_interactivity = \"all\""
   ]
  },
  {
   "cell_type": "markdown",
   "metadata": {},
   "source": [
    "## Background"
   ]
  },
  {
   "cell_type": "markdown",
   "metadata": {},
   "source": [
    "Depois de meses a fazer, candidatures finalmente consegues um estágio de Verão no laboratório **LabOfLife (LOL)**\n",
    "\n",
    "Começas o estágio. És inserido numa equipa de laboratório que analisa proteínas e as suas propriedades. Nos primeiros dias és introduzido aos diversos projetos que o laboratório tem e também à equipa onde te vais inserir, e mal podes esperar por começar a aprender e a aplicar os teus conhecimentos.\n",
    "\n",
    "Certo dia chegas ao laboratório bem cedo, e mal entras na sala ficas surpreso por ver toda a tua equipa já lá, e ainda por cima o ambiente parece pesado... Preocupado, chegas-te a uma colega e perguntas o que se está a passar. Ela diz-te: \n",
    "\n",
    "\n",
    "> \"Estamos a analisar as fosforilações presentes num proteoma de alfa-casína. Para isso fizémos uma experiência e recolhemos os dados todos para o ficheiro `data/dados.csv`. No entanto passámos a noite toda a tentar terminar a nossa análise das fosforilações, mas a única coisa que conseguimos fazer foi uma função que está no ficheiro `utils.py` que extrai só os eventos de fosforilações da coluna que contém todas as modificações que aconteceram às proteínas\"\n",
    "\n",
    "Aprontamente, tu ofereces a tua ajuda:\n",
    "\n",
    "> \"Não te preocupes. Eu fiz um workshop de Pandas e Python organizado pelo ANEEB e consigo-vos ajudar, explica-me melhor a situação e eu resolvo isto em menos de 1h.\"\n",
    "\n",
    "Os teus colegas agradecem-te, explicam a situação de forma detalhada e vão descansar para casa.\n"
   ]
  },
  {
   "cell_type": "markdown",
   "metadata": {},
   "source": [
    "**Problema**:\n",
    "> Estamos a testar umas nanopartículas (IMAC – immobilized ion metal afinity chromatography) que servem para pré-concentrar os fosfopeptidos. Queremos testar se a nossa concentração foi bem feita olhando para as fosforilações das sequencias de aminoácidos.\n",
    "\n",
    "**Objetivo**:\n",
    "\n",
    "> Analisar o número total de fosforilações por sequência de aminoácidos, bem como o número de fosforilações que ocorrem nos aminoácidos S, T e Y. Queremos verificar se rondamos a distribuição esperada: 80% de S, 18% de T e 2% de Y. Caso os resultados apontem para números muito diferentes estamos perante selectividades diferentes.\n",
    "\n",
    "\n",
    "**Dados**:\n",
    "\n",
    "> Os dados com que vais trabalhar resultam de análise por espectrometria de massa da pré-concentração usando IMACs de titânio, európio e samário por um programa chamado MASCOT. O dataset contém muita informação, mas para esta análise só nos interessa olhar para a **sequência** de aminoácidos e as fosforilações que estão presentes na coluna de **modificações**."
   ]
  },
  {
   "cell_type": "markdown",
   "metadata": {},
   "source": [
    "# Exercise 1 - Prepare de data"
   ]
  },
  {
   "cell_type": "markdown",
   "metadata": {},
   "source": [
    "## Exercise 1.1 - Read the data\n",
    "\n",
    "The url for the data is the following : `<inser url here>`"
   ]
  },
  {
   "cell_type": "code",
   "execution_count": 2,
   "metadata": {
    "ExecuteTime": {
     "end_time": "2021-06-19T13:43:19.662470Z",
     "start_time": "2021-06-19T13:43:19.272826Z"
    }
   },
   "outputs": [],
   "source": [
    "data_path = \"https://raw.githubusercontent.com/vohcolab/ANEEB-2021-Python-Workshop/main/Pandas/Pandas%20Advanced/data/dados_fosforilacoes_aminoacidos.csv\"\n",
    "\n",
    "# df = ... # uncomment to provide an answer\n",
    "# df.head() # uncomment to inspect the data"
   ]
  },
  {
   "cell_type": "markdown",
   "metadata": {},
   "source": [
    "Evaluation cell below"
   ]
  },
  {
   "cell_type": "code",
   "execution_count": 3,
   "metadata": {
    "ExecuteTime": {
     "end_time": "2021-06-19T13:43:20.233330Z",
     "start_time": "2021-06-19T13:43:20.230617Z"
    }
   },
   "outputs": [],
   "source": [
    "# don't forget to hide contents by default\n",
    "assert df.shape==(2541,20), \"Oops!\""
   ]
  },
  {
   "cell_type": "markdown",
   "metadata": {},
   "source": [
    "## Exercise 1.2 - Select relevant columns\n",
    "\n",
    "There's a lot of information on this dataset, but you remember that the problem consists of analyzing only the phosphorylation events out of all **Modifications** that occurred on the **Sequence** of aminoacids. Look for the 2 columns that contain this information and create a new dataframe that only contains these columns."
   ]
  },
  {
   "cell_type": "code",
   "execution_count": 5,
   "metadata": {
    "ExecuteTime": {
     "end_time": "2021-06-19T13:43:36.477925Z",
     "start_time": "2021-06-19T13:43:36.474284Z"
    }
   },
   "outputs": [],
   "source": [
    "# relevant_columns = [... , ...] # uncomment to provide an answer. hint: this should be a list of two strings\n",
    "\n",
    "#phospho_df = # uncomment to provide an answer\n",
    "#phospho_df.head() "
   ]
  },
  {
   "cell_type": "code",
   "execution_count": 6,
   "metadata": {
    "ExecuteTime": {
     "end_time": "2021-06-19T13:43:37.203045Z",
     "start_time": "2021-06-19T13:43:37.195053Z"
    }
   },
   "outputs": [],
   "source": [
    "hash_df = b'\\xe9\\x9c\\xc8\\x8d9\\xc9\\x9e\\x1d\\xf2\\xe4B\\xc6\\xc1S+\\x9aPt\\xa8\\x89\\xc8\\x00[!\\xd8:-\\xfa~\\xb0\\xae\\xcd'\n",
    "\n",
    "assert phospho_df.shape==(2541,2), \"Oops!\"\n",
    "assert sha256(phospho_df.reindex(sorted(phospho_df.columns), axis=1).to_dict().__str__().encode()).digest() == hash_df"
   ]
  },
  {
   "cell_type": "markdown",
   "metadata": {},
   "source": [
    "# Exercise 2"
   ]
  },
  {
   "cell_type": "markdown",
   "metadata": {},
   "source": [
    "## Exercise 2.1 - Extract the aminoacid sequence"
   ]
  },
  {
   "cell_type": "markdown",
   "metadata": {},
   "source": [
    "We have the data we need. The `Modifications` column contains the position of each reaction in the sequence. However, the `Sequence` column needs some cleaning because each aminoacid sequence is in the middle of two full stops: \"\\<Letter\\>.**\\<sequence\\>**.\\<Letter\\>\"\n",
    "\n",
    "**Objective**: create a function that receives a sequence in its raw form and extracts only the actual sequence."
   ]
  },
  {
   "cell_type": "code",
   "execution_count": 7,
   "metadata": {
    "ExecuteTime": {
     "end_time": "2021-06-19T13:43:49.471768Z",
     "start_time": "2021-06-19T13:43:49.469099Z"
    }
   },
   "outputs": [],
   "source": [
    "def extract_sequence(sequence):\n",
    "    \"\"\"\n",
    "    Extracts the actual aminoacid sequence from a sequence produced by MASCOT.\n",
    "    \n",
    "    Parameters\n",
    "    ----------\n",
    "    \n",
    "    sequence : str\n",
    "        An sequence produced by the program MASCOT.\n",
    "        \n",
    "    Returns\n",
    "    -------\n",
    "    \n",
    "    amino_sequence : str\n",
    "        The aminoacid sequence\n",
    "    \n",
    "    Examples\n",
    "    --------\n",
    "    \n",
    "    sequence = 'K.VPQLEIVPNSAEER.L'\n",
    "    extract_sequence(sequence)\n",
    "    >>> 'VPQLEIVPNSAEER'\n",
    "    \n",
    "    \"\"\"\n",
    "    \n",
    "    # amino_sequence = ...\n",
    "    \n",
    "    return amino_sequence\n",
    "\n",
    "# try it yourself!\n",
    "# example = 'K.VPQLEIVPNSAEER.L' # uncomment to test the function\n",
    "# extract_sequence(example) # uncomment to test the function"
   ]
  },
  {
   "cell_type": "code",
   "execution_count": 8,
   "metadata": {
    "ExecuteTime": {
     "end_time": "2021-06-19T13:43:50.077624Z",
     "start_time": "2021-06-19T13:43:50.074875Z"
    }
   },
   "outputs": [],
   "source": [
    "test_example_1 = 'T.VPQLEIVPNSAEER.K'\n",
    "test_example_2 = 'U.VGQLAIVPSSAEUDR.S'\n",
    "test_example_3 = 'P.SDQLGIVPRSAEER.U'\n",
    "\n",
    "assert extract_sequence(test_example_1) == 'VPQLEIVPNSAEER'\n",
    "assert extract_sequence(test_example_2) == 'VGQLAIVPSSAEUDR'\n",
    "assert extract_sequence(test_example_3) == 'SDQLGIVPRSAEER'"
   ]
  },
  {
   "cell_type": "markdown",
   "metadata": {},
   "source": [
    "# Exercise 2.2 - Clean the Sequence column"
   ]
  },
  {
   "cell_type": "code",
   "execution_count": 9,
   "metadata": {
    "ExecuteTime": {
     "end_time": "2021-06-19T13:43:51.044524Z",
     "start_time": "2021-06-19T13:43:51.042082Z"
    }
   },
   "outputs": [],
   "source": [
    "# we are making a copy so we don't change the original data\n",
    "phospho_cleaned_df= phospho_df.copy()"
   ]
  },
  {
   "cell_type": "markdown",
   "metadata": {},
   "source": [
    "Now that you have a function that extracts a sequence, use that function to clean the entire `Sequence` column of the dataframe.\n",
    "\n",
    "*hint*: you can use the function you created# we are making a copy so we don't change the original data\n",
    "phospho_cleaned_df= phospho_df.copy() to help you here"
   ]
  },
  {
   "cell_type": "code",
   "execution_count": 11,
   "metadata": {
    "ExecuteTime": {
     "end_time": "2021-06-19T13:44:43.774626Z",
     "start_time": "2021-06-19T13:44:43.759364Z"
    }
   },
   "outputs": [
    {
     "data": {
      "text/html": [
       "<div>\n",
       "<style scoped>\n",
       "    .dataframe tbody tr th:only-of-type {\n",
       "        vertical-align: middle;\n",
       "    }\n",
       "\n",
       "    .dataframe tbody tr th {\n",
       "        vertical-align: top;\n",
       "    }\n",
       "\n",
       "    .dataframe thead th {\n",
       "        text-align: right;\n",
       "    }\n",
       "</style>\n",
       "<table border=\"1\" class=\"dataframe\">\n",
       "  <thead>\n",
       "    <tr style=\"text-align: right;\">\n",
       "      <th></th>\n",
       "      <th>Modifications</th>\n",
       "      <th>Sequence</th>\n",
       "    </tr>\n",
       "  </thead>\n",
       "  <tbody>\n",
       "    <tr>\n",
       "      <th>0</th>\n",
       "      <td>Acetyl: 1; Oxidation: 4; Phospho: 6</td>\n",
       "      <td>TVDMESTEVFTK</td>\n",
       "    </tr>\n",
       "    <tr>\n",
       "      <th>1</th>\n",
       "      <td>Phospho: 10</td>\n",
       "      <td>VPQLEIVPNSAEER</td>\n",
       "    </tr>\n",
       "    <tr>\n",
       "      <th>2</th>\n",
       "      <td>Phospho: 10</td>\n",
       "      <td>VPQLEIVPNSAEER</td>\n",
       "    </tr>\n",
       "    <tr>\n",
       "      <th>3</th>\n",
       "      <td>Phospho: 10</td>\n",
       "      <td>VPQLEIVPNSAEER</td>\n",
       "    </tr>\n",
       "    <tr>\n",
       "      <th>4</th>\n",
       "      <td>Phospho: 10</td>\n",
       "      <td>VPQLEIVPNSAEER</td>\n",
       "    </tr>\n",
       "  </tbody>\n",
       "</table>\n",
       "</div>"
      ],
      "text/plain": [
       "                         Modifications        Sequence\n",
       "0  Acetyl: 1; Oxidation: 4; Phospho: 6    TVDMESTEVFTK\n",
       "1                          Phospho: 10  VPQLEIVPNSAEER\n",
       "2                          Phospho: 10  VPQLEIVPNSAEER\n",
       "3                          Phospho: 10  VPQLEIVPNSAEER\n",
       "4                          Phospho: 10  VPQLEIVPNSAEER"
      ]
     },
     "execution_count": 11,
     "metadata": {},
     "output_type": "execute_result"
    }
   ],
   "source": [
    "# Answer below\n",
    "\n",
    "# phospho_cleaned_df['Sequence'] = ...\n",
    "\n",
    "# phospho_cleaned_df.head(5) # uncomment to test"
   ]
  },
  {
   "cell_type": "code",
   "execution_count": 12,
   "metadata": {
    "ExecuteTime": {
     "end_time": "2021-06-19T13:44:47.451788Z",
     "start_time": "2021-06-19T13:44:47.447982Z"
    }
   },
   "outputs": [],
   "source": [
    "hash_correct_answer = b'\\xaf\\x00\\x93\\xb8<}\\x9f\\xe6\\xe3\\xfd2O\\xf8\\xa9TW(\\xb1\\x08\\xf1\\xdc\\xdc|\\xc8\\xc8\\xb5\\xc6qD~*G'\n",
    "assert sha256(phospho_cleaned_df.Sequence.__str__().encode()).digest() == hash_correct_answer"
   ]
  },
  {
   "cell_type": "markdown",
   "metadata": {},
   "source": [
    "# Exercise 3 - Extract aminoacids with phosphorylation events\n",
    "\n",
    "\n",
    "We know that only the aminoacids `S`, `T`, and `Y` contain phosphorylation events. We want to analyse the distribution of these events to compare with the theoretical expected distribution: 80% of S, 18% of T, and 2% of Y.\n",
    "\n",
    "\n",
    "Now is the perfect time to use the function that your lab colleagues created: `capture_phospho_positions`. You don't need to understand the code inside this function. All you need to know is that this function receives a string of modifications and outputs the positions of phospho events in a list"
   ]
  },
  {
   "cell_type": "code",
   "execution_count": null,
   "metadata": {},
   "outputs": [],
   "source": [
    "def capture_phospho_positions(modification):\n",
    "    \"\"\"\n",
    "    Given a modification description of the form:\n",
    "    \"Acetyl: 1; Oxidation: 4; Phospho: 6\", captures the positions of the Phospho component only\n",
    "    \n",
    "    \n",
    "    Returns a list of the positions.\n",
    "    \n",
    "    Parameters\n",
    "    ----------\n",
    "    modification: str\n",
    "        String containing the modifications to a sequence of aminoacids.\n",
    "        \n",
    "    Returns\n",
    "    -------\n",
    "    positions_list : list\n",
    "        List of all the aminoacids with Phospho events\n",
    "    \n",
    "    \n",
    "    Examples\n",
    "    --------\n",
    "    \n",
    "    example = \"Acetyl: 1; Oxidation: 4; Phospho: 6\"\n",
    "    capture_phospho_positions(example)\n",
    "    >>> [6]\n",
    "    \n",
    "    example_2 = \"Acetyl: 5; Oxidation: 2; Phospho: 6, 9\"\n",
    "    capture_phospho_positions(example)\n",
    "    >>> [6, 9]\n",
    "    \"\"\"\n",
    "    \n",
    "    \n",
    "    events = modification.split(';')\n",
    "    phospho_info = [s for s in events if 'Phospho' in s][0]\n",
    "    \n",
    "    # remove unecessary info ('Phospho:')\n",
    "    positions_str = phospho_info[phospho_info.find(':')+1:]\n",
    "    # remove whitespaces and get list of positions\n",
    "    positions_list = positions_str.replace(\" \", \"\").split(',')\n",
    "    # convert positions to ints\n",
    "    positions_list = [int(e) for e in positions_list]\n",
    "    \n",
    "    return positions_list"
   ]
  },
  {
   "cell_type": "markdown",
   "metadata": {},
   "source": [
    "## Exercise 3.1 - Extract the aminoacids with phospho events"
   ]
  },
  {
   "cell_type": "code",
   "execution_count": null,
   "metadata": {},
   "outputs": [],
   "source": [
    "def get_phospho_aminoacids(row):\n",
    "    \"\"\"\n",
    "    Given a pandas series with two elements: Sequence and Modifications,\n",
    "    returns a list with all the aminoacids where a Phospho event occured.\n",
    "    \n",
    "    \n",
    "    Parameters\n",
    "    ----------\n",
    "    row : pd.Series, index = ['Sequence', 'Modifications']\n",
    "        A sequence and the respective modifications.\n",
    "        \n",
    "        \n",
    "    Returns\n",
    "    -------\n",
    "    phospho_amino_list : list\n",
    "        A list of all the aminoacids with phospho events\n",
    "    \n",
    "    Examples\n",
    "    --------\n",
    "    modification = \"Acetyl: 1; Oxidation: 4; Phospho: 6, 11\"\n",
    "    sequence_cleaned = 'TVDMESTEVFTK'\n",
    "    row = pd.Series([sequence, modification], index=['Sequence', 'Modifications'])\n",
    "    \n",
    "    get_phospho_aminoacids(row)\n",
    "    >>> [\"S\",\"T\"]\n",
    "    \"\"\"\n",
    "    \n",
    "    \n",
    "    return phospho_amino_list\n",
    "\n",
    "# Try it yourself!\n",
    "# modification = \"Acetyl: 1; Oxidation: 4; Phospho: 6, 11\"\n",
    "# sequence_cleaned = 'TVDMESTEVFTK'\n",
    "# row = pd.Series([sequence, modification], index=['Sequence', 'Modifications'])\n",
    "# get_phospho_aminoacids(row) # uncomment to test your function"
   ]
  },
  {
   "cell_type": "code",
   "execution_count": null,
   "metadata": {},
   "outputs": [],
   "source": [
    "sequence_cleaned = 'TVDMESTEVFTK'\n",
    "\n",
    "test_case_1 = pd.Series([sequence_cleaned, \"Acetyl: 4; Phospho: 6, 11\"], index=['Sequence', 'Modifications'])\n",
    "test_case_2 = pd.Series([sequence_cleaned, \"Oxidation: 2; Phospho: 2, 4, 5\"], index=['Sequence', 'Modifications'])\n",
    "test_case_3 = pd.Series([sequence_cleaned, \"Phospho: 3\"], index=['Sequence', 'Modifications'])\n",
    "\n",
    "assert get_phospho_aminoacids(test_case_1) == [\"S\",\"T\"]\n",
    "assert get_phospho_aminoacids(test_case_2) == [\"V\",\"M\",\"E\"]\n",
    "assert get_phospho_aminoacids(test_case_3) == [\"D\"]"
   ]
  },
  {
   "cell_type": "markdown",
   "metadata": {},
   "source": [
    "## Exercise 3.2 - Create a new column with the aminoacids' list\n",
    "\n",
    "Now that you can extract the specific aminoacids with phospho events, let's add that information to a new column!"
   ]
  },
  {
   "cell_type": "code",
   "execution_count": null,
   "metadata": {},
   "outputs": [],
   "source": [
    "# phospho_cleaned_df['phospho_amino_list'] = ...\n",
    "\n",
    "# phospho_cleaned_df.head(5) # uncomment to look at the outputs"
   ]
  },
  {
   "cell_type": "code",
   "execution_count": null,
   "metadata": {},
   "outputs": [],
   "source": [
    "hash_correct_answer = b'8\\x12\\xe1W\\xbd\\x10\\x93\\xcbc\\x98:L\\x0f\\xf1T\\xb3l\\x1b\\xf6\\xe1\\x16F\\xd6K\\x992\\xc8\\x0f\\xe4\\xf3\\xd1\\x96'\n",
    "assert sha256(phospho_cleaned_df.phospho_amino_list.__str__().encode()).digest() == hash_correct_answer"
   ]
  },
  {
   "cell_type": "markdown",
   "metadata": {},
   "source": [
    "# Exercise 3.3 - Count aminoacids"
   ]
  },
  {
   "cell_type": "markdown",
   "metadata": {},
   "source": [
    "Now that the aminoacids are in a list, we just need to count them!\n",
    "\n",
    "**Objective**: Create a function that receives: an aminoacid letter, and an aminoacid list and counts the number of times that letter appears in the list\n",
    "\n",
    "*hint: a lot of the times googling specific questions can really help you because someone may have already asked the same thing. If you ask the right question you may be able to solve this exercise with one line*"
   ]
  },
  {
   "cell_type": "code",
   "execution_count": null,
   "metadata": {},
   "outputs": [],
   "source": [
    "def count_occurrence(letter,amino_list):\n",
    "    \"\"\"\n",
    "    given a specific aminoacid and a list of aminoacids,\n",
    "    counts the number of times that aminoacids appears in the list.\n",
    "    \n",
    "    \n",
    "    Parameters\n",
    "    ----------\n",
    "    \n",
    "    letter : str\n",
    "        An aminoacid letter\n",
    "    \n",
    "    amino_list : list\n",
    "        A list of aminoacid letters\n",
    "    \n",
    "    Returns\n",
    "    -------\n",
    "    \n",
    "    count : int\n",
    "        The number of occurrences of that letter in the list\n",
    "    \n",
    "    \n",
    "    Example\n",
    "    -------\n",
    "    letter = 'T'\n",
    "    amino_list = ['S','Y','S','T']\n",
    "    count_occurrence(letter, amino_list)\n",
    "    >>> 1\n",
    "    amino_list_2 = ['T','Y','S','T']\n",
    "    count_occurrence(letter, amino_list_2)\n",
    "    >>> 2\n",
    "    \"\"\"\n",
    "    \n",
    "    # count = \n",
    "    \n",
    "    return count\n",
    "\n",
    "# try it yourself!\n",
    "# letter = 'K'\n",
    "# amino_list = ['A','K']\n",
    "# count_occurrence(letter,amino_list) # uncomment to test the function"
   ]
  },
  {
   "cell_type": "code",
   "execution_count": null,
   "metadata": {},
   "outputs": [],
   "source": [
    "test_case_1 = {'letter':'T', 'amino_list':['S','Y','S','T']}\n",
    "test_case_2 = {'letter':'Y', 'amino_list':['Y','Y']}\n",
    "test_case_3 = {'letter':'S', 'amino_list':['S','S','S','T','S']}\n",
    "\n",
    "assert count_occurrence(**test_case_1) == 1\n",
    "assert count_occurrence(**test_case_2) == 2\n",
    "assert count_occurrence(**test_case_3) == 4"
   ]
  },
  {
   "cell_type": "markdown",
   "metadata": {},
   "source": [
    "## Exercise 3.4 - Create a column with the occurences of the aminoacid \"S\""
   ]
  },
  {
   "cell_type": "markdown",
   "metadata": {},
   "source": [
    "We are almost ready to analyze the distribution of the aminoacids with phospho events!\n",
    "\n",
    "Let's use the previous function to generate a new column that counts the occurrences of phospho events in S for each row"
   ]
  },
  {
   "cell_type": "code",
   "execution_count": null,
   "metadata": {},
   "outputs": [],
   "source": [
    "# phospho_cleaned_df['S'] = ...\n",
    "\n",
    "# phospho_cleaned_df.head(5) # uncomment to test the output"
   ]
  },
  {
   "cell_type": "code",
   "execution_count": null,
   "metadata": {},
   "outputs": [],
   "source": [
    "hash_correct_answer = b'\\x0eq\\x1d\\t`\\xa6PM\\x9e\\xc1\\x8d\\x1a#\\xea\\x97\\xe2L\\xfa\\x86H\\x1b\\x1e}\\x95kO\\xd0\\xa6\\x01.\\x1b)'\n",
    "assert sha256(phospho_cleaned_df['S'].__str__().encode()).digest() == hash_correct_answer"
   ]
  },
  {
   "cell_type": "markdown",
   "metadata": {},
   "source": [
    "## Exercise 3.5 - Let's now do the same for the aminoacids T and Y"
   ]
  },
  {
   "cell_type": "code",
   "execution_count": null,
   "metadata": {},
   "outputs": [],
   "source": [
    "# phospho_cleaned_df['T'] = ...\n",
    "# phospho_cleaned_df['Y'] = ...\n",
    "\n",
    "# phospho_cleaned_df.head(5) # uncomment to test the output"
   ]
  },
  {
   "cell_type": "code",
   "execution_count": null,
   "metadata": {},
   "outputs": [],
   "source": [
    "hash_correct_answer_T = b\"\\xcc\\xa56z5j|mJ:)\\x8d\\\\\\n0\\x80\\xe5!'\\xf2i\\xf0\\xe3L\\xc6\\xdd\\xdb\\xe13i#\\x91\"\n",
    "hash_correct_answer_Y = b'Z\\xa0V\\xc0\\xc1\\x99\\xc0z\\x1b\\xd3\\t.v\\x9d2a\\x19\\xe1\\x8c?\\x91\\xe3\\xcd\\xe6={Dl\\x9d\\x8apt'\n",
    "\n",
    "assert sha256(phospho_cleaned_df['T'].__str__().encode()).digest() == hash_correct_answer_T\n",
    "assert sha256(phospho_cleaned_df['Y'].__str__().encode()).digest() == hash_correct_answer_Y"
   ]
  },
  {
   "cell_type": "markdown",
   "metadata": {},
   "source": [
    "# Exercise 4 - Analyzing the aminoacids"
   ]
  },
  {
   "cell_type": "markdown",
   "metadata": {},
   "source": [
    "Congrats for reaching here! We are almost done with our analysis, since we have the data ready. \n",
    "\n",
    "Our original goal was to compare the experimental distribution of the aminoacids S,T and Y with the theoretical one.  Let's do that then!\n",
    "\n",
    "**Objective**: create a function that receives the whole dataframe and prints the percentage of total events of S, T and Y\n",
    "\n"
   ]
  },
  {
   "cell_type": "code",
   "execution_count": null,
   "metadata": {},
   "outputs": [],
   "source": [
    "def report_amino_distribution(dataframe):\n",
    "    \"\"\"\n",
    "    Given a dataframe with S,T and Y columns that correpond to the respective count\n",
    "    of phospho events in these aminoacids, report their distribution in the dataset.\n",
    "    \"\"\"\n",
    "    \n",
    "    \n",
    "    # S_total_count = \n",
    "    # T_total_count =\n",
    "    # Y_total_count =\n",
    "    \n",
    "    # total = \n",
    "    \n",
    "    # S_percentage = \n",
    "    # T_percentage = \n",
    "    # Y_percentage = \n",
    "    \n",
    "    print(f'S: {S_percentage.round(2)}%\\nT: {T_percentage.round(2)}%\\nY: {Y_percentage.round(2)}%')"
   ]
  },
  {
   "cell_type": "code",
   "execution_count": null,
   "metadata": {},
   "outputs": [],
   "source": [
    "report_amino_distribution(phospho_cleaned_df)"
   ]
  },
  {
   "cell_type": "markdown",
   "metadata": {},
   "source": [
    "# Conclusions"
   ]
  },
  {
   "cell_type": "markdown",
   "metadata": {},
   "source": [
    "- Despite \"Y\" being close to the expected distribution, phospho events in the \"S\" aminoacid happen a lot more than they should (96% vs 80%), and at the same time the \"T\" aminoacids are below what is expected (1.8% vs 18%)"
   ]
  },
  {
   "cell_type": "markdown",
   "metadata": {},
   "source": [
    "# That's it!"
   ]
  },
  {
   "cell_type": "markdown",
   "metadata": {},
   "source": [
    "<img src=\"https://64.media.tumblr.com/e68ad3308e9701c10ca6aebe56008be5/tumblr_inline_p6nhl0n3qv1vvskl5_640.jpg\">"
   ]
  },
  {
   "cell_type": "code",
   "execution_count": null,
   "metadata": {},
   "outputs": [],
   "source": []
  }
 ],
 "metadata": {
  "kernelspec": {
   "display_name": "Python 3",
   "language": "python",
   "name": "python3"
  },
  "language_info": {
   "codemirror_mode": {
    "name": "ipython",
    "version": 3
   },
   "file_extension": ".py",
   "mimetype": "text/x-python",
   "name": "python",
   "nbconvert_exporter": "python",
   "pygments_lexer": "ipython3",
   "version": "3.8.1"
  },
  "toc": {
   "base_numbering": 1,
   "nav_menu": {},
   "number_sections": true,
   "sideBar": true,
   "skip_h1_title": false,
   "title_cell": "Table of Contents",
   "title_sidebar": "Contents",
   "toc_cell": false,
   "toc_position": {},
   "toc_section_display": true,
   "toc_window_display": false
  }
 },
 "nbformat": 4,
 "nbformat_minor": 4
}
