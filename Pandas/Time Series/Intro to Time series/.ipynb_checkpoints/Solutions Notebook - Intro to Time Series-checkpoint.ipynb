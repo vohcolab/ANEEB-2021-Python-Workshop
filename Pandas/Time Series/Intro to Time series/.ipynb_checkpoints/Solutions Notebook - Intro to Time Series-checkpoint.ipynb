{
 "cells": [
  {
   "cell_type": "code",
   "execution_count": 1,
   "metadata": {},
   "outputs": [],
   "source": [
    "import matplotlib.pyplot as plt\n",
    "import pandas as pd\n",
    "import hashlib\n",
    "%matplotlib inline "
   ]
  },
  {
   "cell_type": "code",
   "execution_count": 4,
   "metadata": {},
   "outputs": [
    {
     "data": {
      "text/html": [
       "<div>\n",
       "<style scoped>\n",
       "    .dataframe tbody tr th:only-of-type {\n",
       "        vertical-align: middle;\n",
       "    }\n",
       "\n",
       "    .dataframe tbody tr th {\n",
       "        vertical-align: top;\n",
       "    }\n",
       "\n",
       "    .dataframe thead th {\n",
       "        text-align: right;\n",
       "    }\n",
       "</style>\n",
       "<table border=\"1\" class=\"dataframe\">\n",
       "  <thead>\n",
       "    <tr style=\"text-align: right;\">\n",
       "      <th></th>\n",
       "      <th>date</th>\n",
       "      <th>Country</th>\n",
       "      <th>deaths</th>\n",
       "      <th>confirmed_cases</th>\n",
       "    </tr>\n",
       "  </thead>\n",
       "  <tbody>\n",
       "    <tr>\n",
       "      <th>0</th>\n",
       "      <td>2020-03-11</td>\n",
       "      <td>Portugal</td>\n",
       "      <td>0.0</td>\n",
       "      <td>18.0</td>\n",
       "    </tr>\n",
       "    <tr>\n",
       "      <th>1</th>\n",
       "      <td>2020-07-19</td>\n",
       "      <td>Portugal</td>\n",
       "      <td>5.0</td>\n",
       "      <td>246.0</td>\n",
       "    </tr>\n",
       "    <tr>\n",
       "      <th>2</th>\n",
       "      <td>2020-05-02</td>\n",
       "      <td>Portugal</td>\n",
       "      <td>16.0</td>\n",
       "      <td>-161.0</td>\n",
       "    </tr>\n",
       "    <tr>\n",
       "      <th>3</th>\n",
       "      <td>2020-09-29</td>\n",
       "      <td>Portugal</td>\n",
       "      <td>6.0</td>\n",
       "      <td>688.0</td>\n",
       "    </tr>\n",
       "    <tr>\n",
       "      <th>4</th>\n",
       "      <td>2020-08-05</td>\n",
       "      <td>Portugal</td>\n",
       "      <td>1.0</td>\n",
       "      <td>167.0</td>\n",
       "    </tr>\n",
       "  </tbody>\n",
       "</table>\n",
       "</div>"
      ],
      "text/plain": [
       "         date   Country  deaths  confirmed_cases\n",
       "0  2020-03-11  Portugal     0.0             18.0\n",
       "1  2020-07-19  Portugal     5.0            246.0\n",
       "2  2020-05-02  Portugal    16.0           -161.0\n",
       "3  2020-09-29  Portugal     6.0            688.0\n",
       "4  2020-08-05  Portugal     1.0            167.0"
      ]
     },
     "execution_count": 4,
     "metadata": {},
     "output_type": "execute_result"
    }
   ],
   "source": [
    "# data_path = 'https://raw.githubusercontent.com/vohcolab/PandaViz-Workshop/main/Pandas/Time%20Series/Intro%20to%20Time%20Series/data/covid19Portugal.csv'\n",
    "data_path = 'data/covid19Portugal.csv' # also works if you are running locally\n",
    "\n",
    "data_raw = pd.read_csv(data_path)\n",
    "data_raw.head(5)"
   ]
  },
  {
   "cell_type": "markdown",
   "metadata": {},
   "source": [
    "# Exercise 1 : Index and datetime\n",
    "\n",
    "Turn the date column to datetime, set it as index and sort the index."
   ]
  },
  {
   "cell_type": "code",
   "execution_count": 6,
   "metadata": {},
   "outputs": [],
   "source": [
    "# We expect the solution to be a dataframe\n",
    "\n",
    "data = data_raw.copy() # copies the contents of data_raw into a new variable\n",
    "\n",
    "# YOUR CODE HERE\n",
    "data['date'] = pd.to_datetime(data['date'], infer_datetime_format=True)\n",
    "data = data.set_index('date')\n",
    "data = data.sort_index()"
   ]
  },
  {
   "cell_type": "code",
   "execution_count": 8,
   "metadata": {},
   "outputs": [
    {
     "data": {
      "text/html": [
       "<div>\n",
       "<style scoped>\n",
       "    .dataframe tbody tr th:only-of-type {\n",
       "        vertical-align: middle;\n",
       "    }\n",
       "\n",
       "    .dataframe tbody tr th {\n",
       "        vertical-align: top;\n",
       "    }\n",
       "\n",
       "    .dataframe thead th {\n",
       "        text-align: right;\n",
       "    }\n",
       "</style>\n",
       "<table border=\"1\" class=\"dataframe\">\n",
       "  <thead>\n",
       "    <tr style=\"text-align: right;\">\n",
       "      <th></th>\n",
       "      <th>Country</th>\n",
       "      <th>deaths</th>\n",
       "      <th>confirmed_cases</th>\n",
       "    </tr>\n",
       "    <tr>\n",
       "      <th>date</th>\n",
       "      <th></th>\n",
       "      <th></th>\n",
       "      <th></th>\n",
       "    </tr>\n",
       "  </thead>\n",
       "  <tbody>\n",
       "    <tr>\n",
       "      <th>2020-01-22</th>\n",
       "      <td>Portugal</td>\n",
       "      <td>0.0</td>\n",
       "      <td>0.0</td>\n",
       "    </tr>\n",
       "    <tr>\n",
       "      <th>2020-01-23</th>\n",
       "      <td>Portugal</td>\n",
       "      <td>0.0</td>\n",
       "      <td>0.0</td>\n",
       "    </tr>\n",
       "    <tr>\n",
       "      <th>2020-01-24</th>\n",
       "      <td>Portugal</td>\n",
       "      <td>0.0</td>\n",
       "      <td>0.0</td>\n",
       "    </tr>\n",
       "  </tbody>\n",
       "</table>\n",
       "</div>"
      ],
      "text/plain": [
       "             Country  deaths  confirmed_cases\n",
       "date                                         \n",
       "2020-01-22  Portugal     0.0              0.0\n",
       "2020-01-23  Portugal     0.0              0.0\n",
       "2020-01-24  Portugal     0.0              0.0"
      ]
     },
     "execution_count": 8,
     "metadata": {},
     "output_type": "execute_result"
    }
   ],
   "source": [
    "data.head(3)"
   ]
  },
  {
   "cell_type": "code",
   "execution_count": 9,
   "metadata": {},
   "outputs": [],
   "source": [
    "expected_hash = '8aed642bf5118b9d3c859bd4be35ecac75b6e873cce34e7b6f554b06f75550d7'\n",
    "assert hashlib.sha256(str(data.iloc[0].deaths).encode()).hexdigest() == expected_hash\n",
    "assert hashlib.sha256(str(data.index.dtype).encode()).hexdigest() == '261738f2e43a1c47a16f043b46deb993943d61f4a2bbe5ef4b03c3fb1af362b5'"
   ]
  },
  {
   "cell_type": "markdown",
   "metadata": {},
   "source": [
    "# Exercise 2: Working with timestamps"
   ]
  },
  {
   "cell_type": "markdown",
   "metadata": {},
   "source": [
    "#### Exercise 2.1) What is the day with most deaths"
   ]
  },
  {
   "cell_type": "code",
   "execution_count": 10,
   "metadata": {},
   "outputs": [],
   "source": [
    "# hint: the answer should be a timestamp\n",
    "\n",
    "worst_day = data.deaths.idxmax()\n",
    "\n",
    "# YOUR CODE HERE\n",
    "#raise NotImplementedError()"
   ]
  },
  {
   "cell_type": "code",
   "execution_count": 11,
   "metadata": {},
   "outputs": [
    {
     "data": {
      "text/plain": [
       "Timestamp('2020-11-16 00:00:00')"
      ]
     },
     "execution_count": 11,
     "metadata": {},
     "output_type": "execute_result"
    }
   ],
   "source": [
    "worst_day"
   ]
  },
  {
   "cell_type": "code",
   "execution_count": 12,
   "metadata": {},
   "outputs": [],
   "source": [
    "expected_hash = '7c3185b857e1103d2e9aed349c3797c03510902dea53857bbb05e0ede17441d1'\n",
    "assert hashlib.sha256(str(worst_day).encode()).hexdigest() == expected_hash"
   ]
  },
  {
   "cell_type": "markdown",
   "metadata": {},
   "source": [
    "#### 2.2) Tuesday with the most confirmed cases\n",
    "\n",
    "\n",
    "The answer should be a timestamp"
   ]
  },
  {
   "cell_type": "code",
   "execution_count": 14,
   "metadata": {},
   "outputs": [],
   "source": [
    "worst_tuesday_cases = data.loc[data.index.day_name() == 'Tuesday','confirmed_cases'].idxmax()"
   ]
  },
  {
   "cell_type": "code",
   "execution_count": 15,
   "metadata": {},
   "outputs": [
    {
     "data": {
      "text/plain": [
       "Timestamp('2020-11-10 00:00:00')"
      ]
     },
     "execution_count": 15,
     "metadata": {},
     "output_type": "execute_result"
    }
   ],
   "source": [
    "worst_tuesday_cases"
   ]
  },
  {
   "cell_type": "code",
   "execution_count": 16,
   "metadata": {},
   "outputs": [],
   "source": [
    "expected_hash = 'ed0cfdeed24c0a3cde2783625c6af8e952f2be2989d74dfc0762d844d4727cd0'\n",
    "\n",
    "assert hashlib.sha256(str(worst_tuesday_cases).encode()).hexdigest() == expected_hash"
   ]
  },
  {
   "cell_type": "markdown",
   "metadata": {},
   "source": [
    "# Exercise 3: Time series methods"
   ]
  },
  {
   "cell_type": "markdown",
   "metadata": {},
   "source": [
    "#### 3.1) A new high since the summer started\n",
    "\n",
    "It's the first week of October. Most students are back to having classes, and Summer vacations are officially over. Your friend comes up to you and says \"this week has been the week with most deaths since the 1st of July. I think we need to start being more careful now\".\n",
    "\n",
    "To confirm what your friend just said, get the deadliest week of the covid data starting from the 1st of July up until the first week of october (including).\n",
    "\n",
    "The answer should be a timestamp"
   ]
  },
  {
   "cell_type": "code",
   "execution_count": 18,
   "metadata": {},
   "outputs": [],
   "source": [
    "# assume the first week of october ends on October 4th. (For grading purposes)\n",
    "interval = slice('July 1st 2020', 'October 4th 2020')\n",
    "weekly_high = data.loc[interval,'deaths'].resample('W').sum().idxmax()"
   ]
  },
  {
   "cell_type": "code",
   "execution_count": 19,
   "metadata": {},
   "outputs": [
    {
     "data": {
      "text/plain": [
       "Timestamp('2020-10-04 00:00:00', freq='W-SUN')"
      ]
     },
     "execution_count": 19,
     "metadata": {},
     "output_type": "execute_result"
    }
   ],
   "source": [
    "weekly_high"
   ]
  },
  {
   "cell_type": "code",
   "execution_count": 20,
   "metadata": {},
   "outputs": [],
   "source": [
    "expected_hash = '290519bb74966f3ebeab68bcb3b51550f6954f65918ee48c805aea3a8e4a4422'\n",
    "\n",
    "assert hashlib.sha256(str(weekly_high).encode()).hexdigest() == expected_hash"
   ]
  },
  {
   "cell_type": "markdown",
   "metadata": {},
   "source": [
    "#### 3.2) Is it getting better?\n",
    "\n",
    "Summer is reaching the half point now and rumors says that the number of daily new confirmed cases has been decreasing for a week now. Can you confirm that?\n",
    "\n",
    "It's currently the 29th of August, and you are asked to return the variation of daily confirmed cases of the past 7 days, excluding today. In other words from the 22nd up to the 28th.\n",
    "\n",
    "The answer should be a series with the dates in the index and the variation of confirmed cases as the values.\n",
    "\n",
    "_hint_: be wary of the order of operations that you are going to use, because you mustn't have any Null/NaN values in your final series.\n"
   ]
  },
  {
   "cell_type": "code",
   "execution_count": 21,
   "metadata": {},
   "outputs": [],
   "source": [
    "pastweek = data.drop(columns='Country').diff().loc['22nd August 2020': '28th August 2020','confirmed_cases']"
   ]
  },
  {
   "cell_type": "code",
   "execution_count": 22,
   "metadata": {},
   "outputs": [
    {
     "data": {
      "text/plain": [
       "date\n",
       "2020-08-22     22.0\n",
       "2020-08-23    -96.0\n",
       "2020-08-24    -22.0\n",
       "2020-08-25     69.0\n",
       "2020-08-26    170.0\n",
       "2020-08-27     37.0\n",
       "2020-08-28      2.0\n",
       "Name: confirmed_cases, dtype: float64"
      ]
     },
     "execution_count": 22,
     "metadata": {},
     "output_type": "execute_result"
    }
   ],
   "source": [
    "pastweek"
   ]
  },
  {
   "cell_type": "code",
   "execution_count": 23,
   "metadata": {},
   "outputs": [],
   "source": [
    "expected_hash = '5f646c309cc217ddbb46b4b46cf94b54a2dd9c44c77036b82ad36dd1ff3385be'\n",
    "\n",
    "assert hashlib.sha256(str(pastweek).encode()).hexdigest() == expected_hash"
   ]
  },
  {
   "cell_type": "markdown",
   "metadata": {},
   "source": [
    "#### 3.3) Let's get the trend\n",
    "\n",
    "\n",
    "It's currently October the 20th and you want to understand the current trend on how the death cases are evolving, without being distracted by noise. You decide to use data from the beginning of October up to today (excluding because today's data hasn't arrived yet).\n",
    "\n",
    "Use a window of 7 days and compute the number of deaths' trend of October. You must not have any NaN value in your final result.\n",
    "\n",
    "You should present the results in a pd.Series with time in index and death trend in values"
   ]
  },
  {
   "cell_type": "code",
   "execution_count": 24,
   "metadata": {},
   "outputs": [],
   "source": [
    "trend_deaths_october_so_far = data.rolling(7).mean().loc['October 1st 2020':'October 19th 2020','deaths']"
   ]
  },
  {
   "cell_type": "code",
   "execution_count": 25,
   "metadata": {},
   "outputs": [
    {
     "data": {
      "text/plain": [
       "date\n",
       "2020-10-01     6.571429\n",
       "2020-10-02     6.714286\n",
       "2020-10-03     7.285714\n",
       "2020-10-04     7.428571\n",
       "2020-10-05     8.714286\n",
       "2020-10-06     9.857143\n",
       "2020-10-07     9.857143\n",
       "2020-10-08    10.428571\n",
       "2020-10-09    11.285714\n",
       "2020-10-10    10.285714\n",
       "2020-10-11    10.714286\n",
       "2020-10-12    10.857143\n",
       "2020-10-13    11.142857\n",
       "2020-10-14    11.000000\n",
       "2020-10-15    11.142857\n",
       "2020-10-16    12.428571\n",
       "2020-10-17    13.571429\n",
       "2020-10-18    14.428571\n",
       "2020-10-19    14.857143\n",
       "Name: deaths, dtype: float64"
      ]
     },
     "execution_count": 25,
     "metadata": {},
     "output_type": "execute_result"
    }
   ],
   "source": [
    "trend_deaths_october_so_far"
   ]
  },
  {
   "cell_type": "code",
   "execution_count": 26,
   "metadata": {},
   "outputs": [],
   "source": [
    "expected_hash = 'e4a1f1a7670518a033b529883223f1549d1b2b127e718fba5283392a39daa9d0'\n",
    "\n",
    "assert hashlib.sha256(str(trend_deaths_october_so_far).encode()).hexdigest() == expected_hash"
   ]
  },
  {
   "cell_type": "markdown",
   "metadata": {},
   "source": [
    "Here's a basic plot of your data"
   ]
  },
  {
   "cell_type": "code",
   "execution_count": 27,
   "metadata": {},
   "outputs": [
    {
     "data": {
      "text/plain": [
       "<matplotlib.axes._subplots.AxesSubplot at 0x7f8d56f05580>"
      ]
     },
     "execution_count": 27,
     "metadata": {},
     "output_type": "execute_result"
    },
    {
     "data": {
      "image/png": "[encoded data removed]",
      "text/plain": [
       "<Figure size 432x288 with 1 Axes>"
      ]
     },
     "metadata": {
      "needs_background": "light"
     },
     "output_type": "display_data"
    }
   ],
   "source": [
    "trend_deaths_october_so_far.plot()"
   ]
  },
  {
   "cell_type": "code",
   "execution_count": null,
   "metadata": {},
   "outputs": [],
   "source": []
  }
 ],
 "metadata": {
  "kernelspec": {
   "display_name": "Python [conda env:aneeb]",
   "language": "python",
   "name": "conda-env-aneeb-py"
  },
  "language_info": {
   "codemirror_mode": {
    "name": "ipython",
    "version": 3
   },
   "file_extension": ".py",
   "mimetype": "text/x-python",
   "name": "python",
   "nbconvert_exporter": "python",
   "pygments_lexer": "ipython3",
   "version": "3.8.1"
  }
 },
 "nbformat": 4,
 "nbformat_minor": 4
}
