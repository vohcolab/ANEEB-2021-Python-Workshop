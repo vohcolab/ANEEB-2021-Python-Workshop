{
 "cells": [
  {
   "cell_type": "code",
   "execution_count": 1,
   "metadata": {},
   "outputs": [],
   "source": [
    "import matplotlib.pyplot as plt\n",
    "import pandas as pd\n",
    "import hashlib\n",
    "%matplotlib inline "
   ]
  },
  {
   "cell_type": "code",
   "execution_count": 3,
   "metadata": {},
   "outputs": [
    {
     "data": {
      "text/html": [
       "<div>\n",
       "<style scoped>\n",
       "    .dataframe tbody tr th:only-of-type {\n",
       "        vertical-align: middle;\n",
       "    }\n",
       "\n",
       "    .dataframe tbody tr th {\n",
       "        vertical-align: top;\n",
       "    }\n",
       "\n",
       "    .dataframe thead th {\n",
       "        text-align: right;\n",
       "    }\n",
       "</style>\n",
       "<table border=\"1\" class=\"dataframe\">\n",
       "  <thead>\n",
       "    <tr style=\"text-align: right;\">\n",
       "      <th></th>\n",
       "      <th>date</th>\n",
       "      <th>Country</th>\n",
       "      <th>deaths</th>\n",
       "      <th>confirmed_cases</th>\n",
       "    </tr>\n",
       "  </thead>\n",
       "  <tbody>\n",
       "    <tr>\n",
       "      <th>0</th>\n",
       "      <td>2020-03-11</td>\n",
       "      <td>Portugal</td>\n",
       "      <td>0.0</td>\n",
       "      <td>18.0</td>\n",
       "    </tr>\n",
       "    <tr>\n",
       "      <th>1</th>\n",
       "      <td>2020-07-19</td>\n",
       "      <td>Portugal</td>\n",
       "      <td>5.0</td>\n",
       "      <td>246.0</td>\n",
       "    </tr>\n",
       "    <tr>\n",
       "      <th>2</th>\n",
       "      <td>2020-05-02</td>\n",
       "      <td>Portugal</td>\n",
       "      <td>16.0</td>\n",
       "      <td>-161.0</td>\n",
       "    </tr>\n",
       "    <tr>\n",
       "      <th>3</th>\n",
       "      <td>2020-09-29</td>\n",
       "      <td>Portugal</td>\n",
       "      <td>6.0</td>\n",
       "      <td>688.0</td>\n",
       "    </tr>\n",
       "    <tr>\n",
       "      <th>4</th>\n",
       "      <td>2020-08-05</td>\n",
       "      <td>Portugal</td>\n",
       "      <td>1.0</td>\n",
       "      <td>167.0</td>\n",
       "    </tr>\n",
       "  </tbody>\n",
       "</table>\n",
       "</div>"
      ],
      "text/plain": [
       "         date   Country  deaths  confirmed_cases\n",
       "0  2020-03-11  Portugal     0.0             18.0\n",
       "1  2020-07-19  Portugal     5.0            246.0\n",
       "2  2020-05-02  Portugal    16.0           -161.0\n",
       "3  2020-09-29  Portugal     6.0            688.0\n",
       "4  2020-08-05  Portugal     1.0            167.0"
      ]
     },
     "execution_count": 3,
     "metadata": {},
     "output_type": "execute_result"
    }
   ],
   "source": [
    "data_path = 'https://raw.githubusercontent.com/vohcolab/ANEEB-2021-Python-Workshop/main/Pandas/Time%20Series/Intro%20to%20Time%20series/data/covid19Portugal.csv'\n",
    "# data_path = 'data/covid19Portugal.csv' # also works if you are running locally\n",
    "\n",
    "data_raw = pd.read_csv(data_path)\n",
    "data_raw.head(5)"
   ]
  },
  {
   "cell_type": "markdown",
   "metadata": {},
   "source": [
    "# Exercise 1 : Index and datetime\n",
    "\n",
    "**Objectives:**\n",
    "- Turn the date column to datetime\n",
    "- set it as index\n",
    "- sort the index (always do this)"
   ]
  },
  {
   "cell_type": "code",
   "execution_count": null,
   "metadata": {},
   "outputs": [],
   "source": [
    "# We expect the solution to be a dataframe\n",
    "\n",
    "data = data_raw.copy() # copy the contents of data_raw into a new variable\n",
    "\n",
    "# YOUR CODE HERE\n",
    "\n",
    "# ..."
   ]
  },
  {
   "cell_type": "code",
   "execution_count": null,
   "metadata": {},
   "outputs": [],
   "source": [
    "data.head(3)"
   ]
  },
  {
   "cell_type": "code",
   "execution_count": null,
   "metadata": {},
   "outputs": [],
   "source": [
    "expected_hash = '8aed642bf5118b9d3c859bd4be35ecac75b6e873cce34e7b6f554b06f75550d7'\n",
    "assert hashlib.sha256(str(data.iloc[0].deaths).encode()).hexdigest() == expected_hash\n",
    "assert hashlib.sha256(str(data.index.dtype).encode()).hexdigest() == '261738f2e43a1c47a16f043b46deb993943d61f4a2bbe5ef4b03c3fb1af362b5'"
   ]
  },
  {
   "cell_type": "markdown",
   "metadata": {},
   "source": [
    "# Exercise 2: Working with timestamps"
   ]
  },
  {
   "cell_type": "markdown",
   "metadata": {},
   "source": [
    "#### Exercise 2.1) Day with most deaths"
   ]
  },
  {
   "cell_type": "code",
   "execution_count": null,
   "metadata": {},
   "outputs": [],
   "source": [
    "# hint: the answer should be a timestamp\n",
    "\n",
    "#worst_day =\n",
    "\n",
    "# YOUR CODE HERE\n",
    "#raise NotImplementedError()"
   ]
  },
  {
   "cell_type": "code",
   "execution_count": null,
   "metadata": {},
   "outputs": [],
   "source": [
    "worst_day"
   ]
  },
  {
   "cell_type": "code",
   "execution_count": null,
   "metadata": {},
   "outputs": [],
   "source": [
    "expected_hash = '7c3185b857e1103d2e9aed349c3797c03510902dea53857bbb05e0ede17441d1'\n",
    "assert hashlib.sha256(str(worst_day).encode()).hexdigest() == expected_hash"
   ]
  },
  {
   "cell_type": "markdown",
   "metadata": {},
   "source": [
    "#### 2.2) Tuesday with most confirmed cases"
   ]
  },
  {
   "cell_type": "code",
   "execution_count": null,
   "metadata": {},
   "outputs": [],
   "source": [
    "# worst_tuesday_cases = ..."
   ]
  },
  {
   "cell_type": "code",
   "execution_count": null,
   "metadata": {},
   "outputs": [],
   "source": [
    "worst_tuesday_cases"
   ]
  },
  {
   "cell_type": "code",
   "execution_count": null,
   "metadata": {},
   "outputs": [],
   "source": [
    "expected_hash = 'ed0cfdeed24c0a3cde2783625c6af8e952f2be2989d74dfc0762d844d4727cd0'\n",
    "\n",
    "assert hashlib.sha256(str(worst_tuesday_cases).encode()).hexdigest() == expected_hash"
   ]
  },
  {
   "cell_type": "markdown",
   "metadata": {},
   "source": [
    "# Exercise 3: Time series methods"
   ]
  },
  {
   "cell_type": "markdown",
   "metadata": {},
   "source": [
    "#### 3.1) A new high since the summer started\n",
    "\n",
    "It's The first week of October. Most students are back to having classes, and Summer vacations are officially over. Your friend comes up to you and says \"this week has been the worst week with most deaths since the 1st of July. I believe we need to start being more careful now\".\n",
    "\n",
    "To confirm if what your friend is saying is true, compute the deadliest week of the covid data from the 1st of July up until the first week of october (including), and confirm if it actually turns out to be the first week of October.\n",
    "\n",
    "The answer should be a timestamp"
   ]
  },
  {
   "cell_type": "code",
   "execution_count": null,
   "metadata": {},
   "outputs": [],
   "source": [
    "# assume the first week of october ends on the 4th. (For grading purposes)\n",
    "\n",
    "# weekly_high = ..."
   ]
  },
  {
   "cell_type": "code",
   "execution_count": null,
   "metadata": {},
   "outputs": [],
   "source": [
    "weekly_high"
   ]
  },
  {
   "cell_type": "code",
   "execution_count": null,
   "metadata": {},
   "outputs": [],
   "source": [
    "expected_hash = '290519bb74966f3ebeab68bcb3b51550f6954f65918ee48c805aea3a8e4a4422'\n",
    "\n",
    "assert hashlib.sha256(str(weekly_high).encode()).hexdigest() == expected_hash"
   ]
  },
  {
   "cell_type": "markdown",
   "metadata": {},
   "source": [
    "#### 3.2) Is it getting better?\n",
    "\n",
    "Summer is reaching the half point now and rumors says that the number of daily new confirmed cases has been decreasing for a week now. Can you confirm that?\n",
    "\n",
    "It's currently the 29th of August, and you are asked to return the variation of daily confirmed cases of the past 7 days, excluding today. In other words from the 22nd up to the 28th.\n",
    "\n",
    "The answer should be a series with the dates in the index and the variations from the previous date in the values\n",
    "\n",
    "_hint_: be wary of the order of operations that you are going to use if you don't want any NaN values in your final result\n",
    "\n"
   ]
  },
  {
   "cell_type": "code",
   "execution_count": null,
   "metadata": {},
   "outputs": [],
   "source": [
    "# pastweek = ..."
   ]
  },
  {
   "cell_type": "code",
   "execution_count": null,
   "metadata": {},
   "outputs": [],
   "source": [
    "pastweek"
   ]
  },
  {
   "cell_type": "code",
   "execution_count": null,
   "metadata": {},
   "outputs": [],
   "source": [
    "expected_hash = '5f646c309cc217ddbb46b4b46cf94b54a2dd9c44c77036b82ad36dd1ff3385be'\n",
    "\n",
    "assert hashlib.sha256(str(pastweek).encode()).hexdigest() == expected_hash"
   ]
  },
  {
   "cell_type": "markdown",
   "metadata": {},
   "source": [
    "#### 3.3) Let's get the trend\n",
    "\n",
    "\n",
    "It's currently October the 20th and you want to understand the current trend on how the death cases are evolving, without being distracted by noise. You decide to use data from the beginning of October up to today (excluding because today's data hasn't arrived yet).\n",
    "\n",
    "Use a window of 7 days and compute the number of deaths' trend of October. You must not have any NaN value in your final result"
   ]
  },
  {
   "cell_type": "code",
   "execution_count": null,
   "metadata": {},
   "outputs": [],
   "source": [
    "# trend_deaths_october_so_far = ..."
   ]
  },
  {
   "cell_type": "code",
   "execution_count": null,
   "metadata": {},
   "outputs": [],
   "source": [
    "trend_deaths_october_so_far"
   ]
  },
  {
   "cell_type": "code",
   "execution_count": null,
   "metadata": {},
   "outputs": [],
   "source": [
    "expected_hash = 'e4a1f1a7670518a033b529883223f1549d1b2b127e718fba5283392a39daa9d0'\n",
    "\n",
    "assert hashlib.sha256(str(trend_deaths_october_so_far).encode()).hexdigest() == expected_hash"
   ]
  },
  {
   "cell_type": "markdown",
   "metadata": {},
   "source": [
    "Here's a basic plot of your data"
   ]
  },
  {
   "cell_type": "code",
   "execution_count": null,
   "metadata": {},
   "outputs": [],
   "source": [
    "trend_deaths_october_so_far.plot()"
   ]
  },
  {
   "cell_type": "code",
   "execution_count": null,
   "metadata": {},
   "outputs": [],
   "source": []
  }
 ],
 "metadata": {
  "kernelspec": {
   "display_name": "Python [conda env:aneeb]",
   "language": "python",
   "name": "conda-env-aneeb-py"
  },
  "language_info": {
   "codemirror_mode": {
    "name": "ipython",
    "version": 3
   },
   "file_extension": ".py",
   "mimetype": "text/x-python",
   "name": "python",
   "nbconvert_exporter": "python",
   "pygments_lexer": "ipython3",
   "version": "3.8.1"
  }
 },
 "nbformat": 4,
 "nbformat_minor": 4
}
